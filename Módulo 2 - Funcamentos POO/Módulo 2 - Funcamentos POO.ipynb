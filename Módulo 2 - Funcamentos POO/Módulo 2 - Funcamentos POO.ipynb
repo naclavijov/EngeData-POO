{
 "cells": [
  {
   "cell_type": "markdown",
   "id": "d2247e51",
   "metadata": {},
   "source": [
    "# Introdução ao Python OPP\n",
    "\n",
    "##### Nayher Clavijo, Giovani Gerevini - Engedata (2025)\n",
    "\n",
    "Antes de mais nada é importante salientar aqui que, em\n",
    "outras linguagens de programação quando começamos a nos\n",
    "aprofundar nos estudos de classes normalmente há uma separação\n",
    "desde tipo de conteúdo dos demais por estar entrando na área\n",
    "comumente chamada de orientação a objetos, em Python não há\n",
    "necessidade de fazer tal distinção uma vez que toda a linguagem\n",
    "em sua forma já é nativa orientada a objetos"
   ]
  },
  {
   "cell_type": "code",
   "execution_count": null,
   "id": "c5edd722",
   "metadata": {},
   "outputs": [
    {
     "name": "stdout",
     "output_type": "stream",
     "text": [
      "Lista após append: [1, 2, 3, 4, 5, 6]\n"
     ]
    }
   ],
   "source": [
    "# Exemplo lista\n",
    "lista = [1, 2, 3, 4, 5]\n",
    "lista.append(6)  # Adiciona 6 ao final da lista\n",
    "print(\"Lista após append:\", lista)"
   ]
  },
  {
   "cell_type": "markdown",
   "id": "f2637a7d",
   "metadata": {},
   "source": [
    "## 1. Definição de Classe\n",
    "Uma classe dentro das linguagens de programação nada\n",
    "mais é do que um objeto que ficará reservado ao sistema tanto para\n",
    "indexação quanto para uso de sua estrutura, é como se criassemos\n",
    "uma espécie de molde de onde podemos criar uma série de objetos\n",
    "a partir desse molde. Assim como podemos inserir diversos outros\n",
    "objetos dentro deles de forma que fiquem instanciáveis (de forma\n",
    "que permita manipular seu conteúdo), modularizados, oferecendo\n",
    "uma complexa mas muito eficiente maneira de se trabalhar com\n",
    "objetos.\n",
    "\n",
    "Parece confuso mas na prática é relativamente simples,\n",
    "tenha em mente que para Python toda variável é um objeto, a forma\n",
    "como lhe instanciamos e/ou irá fazer com que o interpretador o trate\n",
    "com mais ou menos privilégios dentro do código. \n",
    "\n",
    "No contexto de termodinâmica, podemos criar classes que representem **modelos de gases**.  \n",
    "\n",
    "🔹 Sintaxe básica:  \n",
    "\n",
    "```python\n",
    "class NomeDaClasse:\n",
    "    # atributos e métodos\n",
    "\n",
    "Exemplo: vamos criar uma classe para representar um gás ideal, definido pela equação de estado dos gases ideais:"
   ]
  },
  {
   "cell_type": "markdown",
   "id": "b0416416",
   "metadata": {},
   "source": [
    "$$\n",
    "P \\cdot V = n \\cdot R \\cdot T\n",
    "$$"
   ]
  },
  {
   "cell_type": "markdown",
   "id": "18775edf",
   "metadata": {},
   "source": [
    "Pela sintaxe convencionalmente usamos o comando **class**\n",
    "(palavra reservada ao sistema) para especificar que a partir deste\n",
    "ponto estamos trabalhando com este tipo de dado, na sequência\n",
    "definimos um nome para essa classe, onde por convenção, é dado\n",
    "um nome qualquer desde que o mesmo se inicie com letra\n",
    "maiúscula, seguindo a notação CapWords (ou PascalCase) (onde a primeira letra de cada palavra composta é maiúscula, sem usar sublinhados, como em *MeuNomeDeClasse*)"
   ]
  },
  {
   "cell_type": "code",
   "execution_count": null,
   "id": "8dfab464",
   "metadata": {},
   "outputs": [
    {
     "name": "stdout",
     "output_type": "stream",
     "text": [
      "0.082\n"
     ]
    }
   ],
   "source": [
    "class GasIdeal:\n",
    "    R = 0.082  # constante dos gases (L·atm / mol·K)\n",
    "\n",
    "print(GasIdeal.R)  # Acessando a variável de classe R"
   ]
  },
  {
   "cell_type": "markdown",
   "id": "bd6c1628",
   "metadata": {},
   "source": [
    "o comando print( ) mandou exibir em tela a instância *R* que\n",
    "pertence a GasIdeal. Seguindo a lógica do conceito explicado\n",
    "anteriormente, GasIdeal é uma super variável que tem *R* (uma\n",
    "simples variável) contida nele.\n",
    "\n",
    "Abstraindo esse exemplo para simplificar seu entendimento,\n",
    "GasIdeal é uma classe/categoria/tipo de objeto, dentro dessa categoria\n",
    "existe a variável R.\n",
    "\n",
    "Criando uma classe EquaçãoDeEstado, poderíamos da mesma forma\n",
    "ter nossa variável equação, mas agora instanciando cada atributo\n",
    "como objeto da classe EquaçãoDeEstado, teríamos acesso direto a esses\n",
    "dados posteriormente\n"
   ]
  },
  {
   "cell_type": "code",
   "execution_count": null,
   "id": "412dd54a",
   "metadata": {},
   "outputs": [
    {
     "name": "stdout",
     "output_type": "stream",
     "text": [
      "0.082\n",
      "1.0\n"
     ]
    }
   ],
   "source": [
    "class EquaçãoDeEstado:\n",
    "    pass\n",
    "\n",
    "equação = EquaçãoDeEstado()\n",
    "\n",
    "equação.R = 0.082  # constante dos gases (L·atm / mol·K)\n",
    "print(equação.R)  # Acessando a variável de instância R\n",
    "equação.P = 1.0    # pressão em atm\n",
    "print(equação.P)  # Acessando a variável de instância P\n",
    "\n"
   ]
  },
  {
   "cell_type": "code",
   "execution_count": null,
   "id": "6583805f",
   "metadata": {},
   "outputs": [
    {
     "ename": "AttributeError",
     "evalue": "'EquaçãoDeEstado' object has no attribute 'R'",
     "output_type": "error",
     "traceback": [
      "\u001b[31m---------------------------------------------------------------------------\u001b[39m",
      "\u001b[31mAttributeError\u001b[39m                            Traceback (most recent call last)",
      "\u001b[36mCell\u001b[39m\u001b[36m \u001b[39m\u001b[32mIn[4]\u001b[39m\u001b[32m, line 2\u001b[39m\n\u001b[32m      1\u001b[39m equação2 = EquaçãoDeEstado()\n\u001b[32m----> \u001b[39m\u001b[32m2\u001b[39m \u001b[38;5;28mprint\u001b[39m(\u001b[43mequação2\u001b[49m\u001b[43m.\u001b[49m\u001b[43mR\u001b[49m)\n",
      "\u001b[31mAttributeError\u001b[39m: 'EquaçãoDeEstado' object has no attribute 'R'"
     ]
    }
   ],
   "source": [
    "equação2 = EquaçãoDeEstado()\n",
    "print(equação2.R)"
   ]
  },
  {
   "cell_type": "markdown",
   "id": "ee7bb25c",
   "metadata": {},
   "source": [
    "Apenas iniciando o entendimento desse exemplo, inicialmente\n",
    "definimos a classe *EquaçãoDeEstado* que por sua vez está vazia de\n",
    "argumentos. Em seguida criamos a variável **equação** que recebe\n",
    "como atribuição a classe *EquaçãoDeEstado( )*, a partir desse ponto, podemos\n",
    "começar a inserir dados (atributos) que ficarão guardados na\n",
    "estrutura dessa classe. Simplesmente aplicando sobre a variável o\n",
    "comando **equação.R = 0.082** estamos criando dentro\n",
    "dessa variável **equação** a variável **R** que tem como atributo o\n",
    "float **0.082**, da mesma forma, dentro da variável **equação** é\n",
    "criada a variável **P = 1**. Note que equação é uma super\n",
    "variável por conter dentro de si outras variáveis com diferentes\n",
    "dados/valores/atributos...\n",
    "\n",
    "Chamamos essa supervariavel de **Objeto**\n"
   ]
  },
  {
   "cell_type": "markdown",
   "id": "38b6cf7e",
   "metadata": {},
   "source": [
    "No exemplo anterior, bastante básico, a classe em si estava\n",
    "vazia, o que não é o convencional, mas ali era somente para\n",
    "exemplificar a lógica de guardar variáveis e seus respectivos\n",
    "atributos dentro de uma classe. Normalmente a lógica de se usar\n",
    "classes é justamente que elas guardem dados e se necessário\n",
    "executem funções a partir dos mesmos. "
   ]
  },
  {
   "cell_type": "code",
   "execution_count": null,
   "id": "af410123",
   "metadata": {},
   "outputs": [
    {
     "name": "stdout",
     "output_type": "stream",
     "text": [
      "Ação printar executada!\n"
     ]
    }
   ],
   "source": [
    "class EquaçãoDeEstado:\n",
    "    def acao_printar(self):\n",
    "        print(\"Ação printar executada!\")\n",
    "\n",
    "# Criando instâncias da classe EquaçãoDeEstado\n",
    "equação3 = EquaçãoDeEstado()\n",
    "\n",
    "equação3.acao_printar()  # Chamando o método acao_printar\n"
   ]
  },
  {
   "cell_type": "markdown",
   "id": "4135d14e",
   "metadata": {},
   "source": [
    "Note que agora a classe não está vazia e dentro dela está definida uma função chamada **acao_printar**. Note que a função acao_printar possui um argumento chave **self** que para efeitos práticos vamos resumir como :\n",
    "\n",
    "Em Python, self é uma referência à instância atual da classe e é usado para acessar variáveis que pertencem à classe. Ele atua como um ponteiro para a instância da classe que está sendo executada no momento. Em outras palavras, self representa o objeto ou a instância de uma classe.\n",
    "\n",
    "A função **acao_printar** corresponde a um método da classe *EquaçãoDeEstado*\n",
    "\n",
    "O uso do self é necessário para acessar atributos e métodos da classe dentro de seus métodos. Isso é importante para diferenciar entre métodos e atributos de instância e métodos e atributos de classe."
   ]
  },
  {
   "cell_type": "markdown",
   "id": "465152e3",
   "metadata": {},
   "source": [
    "## 2. Definição de uma Classe\n",
    "Em Python podemos manualmente definir uma classe\n",
    "respeitando sua sintaxe adequada. Basicamente\n",
    "quando temos uma função dentro de uma classe ela é chamada de\n",
    "**método** dessa classe, que pode executar qualquer coisa. Outro\n",
    "ponto é que quando definimos uma classe manualmente\n",
    "começamos criando um **construtor** para ela, uma função que ficará\n",
    "reservada ao sistema e será chamada sempre que uma instância\n",
    "dessa classe for criada/usada. "
   ]
  },
  {
   "cell_type": "code",
   "execution_count": null,
   "id": "fc0fcaa4",
   "metadata": {},
   "outputs": [],
   "source": [
    "class GasIdeal:\n",
    "    R = 0.082  # L·atm / mol·K\n",
    "\n",
    "    def __init__(self, n, T, V):\n",
    "        self.n = n  # Atributo de instância\n",
    "        self.T = T  # Atributo de instância\n",
    "        self.V = V  # Atributo de instância\n",
    "\n",
    "    def calcular_pressao(self): # Método de instância\n",
    "        \"\"\"Calcula a pressão usando PV = nRT\"\"\"\n",
    "        return (self.n * GasIdeal.R * self.T) / self.V"
   ]
  },
  {
   "cell_type": "code",
   "execution_count": null,
   "id": "89014696",
   "metadata": {},
   "outputs": [
    {
     "name": "stdout",
     "output_type": "stream",
     "text": [
      "Pressão do gás (atm): 2.46\n"
     ]
    }
   ],
   "source": [
    "# Criando um objeto (instância) da classe GasIdeal\n",
    "gas = GasIdeal(n=1, T=300, V=10)  # 1 mol, 300 K, 10 L\n",
    "\n",
    "print(\"Pressão do gás (atm):\", gas.calcular_pressao())"
   ]
  },
  {
   "cell_type": "markdown",
   "id": "a27654b3",
   "metadata": {},
   "source": [
    "Note que é declarado e definido o construtor da classe __init__ ,\n",
    "que sempre terá self como parâmetro (instância padrão), seguido\n",
    "de quantos parâmetros personalizados o usuário criar, desde que\n",
    "separados por vírgula. "
   ]
  },
  {
   "cell_type": "markdown",
   "id": "f981077b",
   "metadata": {},
   "source": [
    "### 2.1 Class vs. Instance Variables\n",
    "\n",
    "- **Variáveis de instância**: pertencem a cada objeto (ex.: `n`, `T`, `V`)  \n",
    "- **Variáveis de classe**: são compartilhadas por todos os objetos (ex.: `R`, constante dos gases).  \n",
    "\n",
    "Isso é útil em termodinâmica, pois a constante dos gases é **universal** e pode ser definida na classe,  \n",
    "enquanto `n`, `T` e `V` mudam para cada sistema.\n"
   ]
  },
  {
   "cell_type": "code",
   "execution_count": null,
   "id": "e307d0f8",
   "metadata": {},
   "outputs": [
    {
     "name": "stdout",
     "output_type": "stream",
     "text": [
      "n : 1 T : 300 V : 10 R : 0.082\n",
      "n : 2 T : 400 V : 20 R : 0.082\n"
     ]
    }
   ],
   "source": [
    "gas1 = GasIdeal(n=1, T=300, V=10)  # 1 mol, 300 K, 10 L\n",
    "print('n :', gas1.n, 'T :', gas1.T, 'V :', gas1.V, 'R :', gas1.R)\n",
    "\n",
    "gas2 = GasIdeal(n=2, T=400, V=20)  # 2 mol, 400 K, 20 L\n",
    "print('n :', gas2.n, 'T :', gas2.T, 'V :', gas2.V, 'R :', gas2.R)\n"
   ]
  },
  {
   "cell_type": "markdown",
   "id": "f0c6adf1",
   "metadata": {},
   "source": [
    "#### 2.1.1. Alterando dados/valores de uma instância\n",
    "Para modificar ou alterar o valor e um objeto ja instanciado por meio de atribuição\n",
    "direta ou por intermédio de funções que são específicas para\n",
    "manipulação de objetos de classe.\n"
   ]
  },
  {
   "cell_type": "code",
   "execution_count": null,
   "id": "6860896e",
   "metadata": {},
   "outputs": [
    {
     "name": "stdout",
     "output_type": "stream",
     "text": [
      "T : 350\n"
     ]
    }
   ],
   "source": [
    "gas4 = GasIdeal(n=1, T=300, V=10)  # 1 mol, 300 K, 10 L\n",
    "gas4.T = 350  # Alterando a temperatura para 350 K\n",
    "print('T :', gas4.T)"
   ]
  },
  {
   "cell_type": "markdown",
   "id": "ba839b35",
   "metadata": {},
   "source": [
    "Repare que estamos trabalhando ainda no mesmo trecho de código\n",
    "anterior, porém agora temos a função setattr( ) que\n",
    "tem como parâmetro a variável gas4 e irá pegar sua instância\n",
    "**T** e alterar para 500. Logo em\n",
    "seguida existe a função delattr( ) que pega a variável **gas4** e\n",
    "deleta o que houver de dado sob a instância **n**, logo na\n",
    "sequência uma nova chamada da função setattr( ) irá pegar\n",
    "novamente a variável gas4, agora na instância **n** e irá\n",
    "atribuir o novo valor, 2.\n",
    "\n",
    "Em suma, quando estamos trabalhando com classes existirão\n",
    "funções específicas para que se adicionem novos dados (função\n",
    "setattr(variavel, ‘instancia’, ‘novo dado’)), assim como para\n",
    "excluir um determinado dado interno de uma classe (função\n",
    "delattr(variavel, ‘instancia’))."
   ]
  },
  {
   "cell_type": "code",
   "execution_count": null,
   "id": "d062925e",
   "metadata": {},
   "outputs": [
    {
     "name": "stdout",
     "output_type": "stream",
     "text": [
      "500 2\n"
     ]
    }
   ],
   "source": [
    "gas4 = GasIdeal(n=1, T=300, V=10)  # 1 mol, 300 K, 10 L\n",
    "gas4.T = 350  # Alterando a temperatura para 350 K\n",
    "setattr(gas4, 'T', 500)\n",
    "delattr(gas4, 'n')\n",
    "setattr(gas4, 'n',2)\n",
    "print(gas4.T,gas4.n)\n",
    "\n"
   ]
  },
  {
   "cell_type": "markdown",
   "id": "172cc3aa",
   "metadata": {},
   "source": [
    "### 2.2 Tipos de métodos\n",
    "\n",
    "#### 2.2.1. Métodos de instância\n",
    "Em Python, um método de instância é uma função definida dentro de uma classe que opera em uma instância (objeto) dessa classe. Esses são os tipos mais comuns de métodos encontrados em classes Python.\n",
    "\n",
    "Aqui está uma análise de suas principais características:\n",
    "Associação com Instâncias: Métodos de instância estão diretamente vinculados a objetos individuais criados a partir de uma classe. Eles são chamados usando o próprio objeto (por exemplo, my_object.method_name()).\n",
    "\n",
    "- Parâmetro self: O primeiro parâmetro de um método de instância é convencionalmente chamado de self. Este parâmetro refere-se implicitamente à instância específica na qual o método está sendo chamado. Ele permite que o método acesse e modifique os atributos (dados) da instância.\n",
    "  \n",
    "- Acesso aos Dados da Instância: Por meio do parâmetro self, um método de instância pode ler e alterar os valores de variáveis ​​de instância, que são atributos exclusivos de cada objeto.\n",
    "  \n",
    "- Encapsulamento: Métodos de instância facilitam o encapsulamento, agrupando dados (variáveis ​​de instância) e as operações que atuam sobre esses dados em uma única unidade (a classe e suas instâncias).\n",
    "  \n",
    "- Tipo de método padrão: a menos que seja explicitamente decorado com @classmethod ou @staticmethod, qualquer método definido dentro de uma classe Python é automaticamente um método de instância."
   ]
  },
  {
   "cell_type": "markdown",
   "id": "a59952aa",
   "metadata": {},
   "source": [
    "**Métodos de instância** são funções que pertencem ao objeto e podem acessar/modificar os atributos dele.  \n",
    "Eles sempre recebem `self` como primeiro parâmetro.  \n",
    "\n",
    "No exemplo do **gás ideal**, já usamos um método de instância (`calcular_pressao`).  \n",
    "Vamos adicionar outro: cálculo da **energia interna**:\n",
    "\n",
    "$$[\n",
    "U = \\frac{3}{2} nRT\n",
    "]$$\n",
    "\n",
    "(para um gás ideal monoatômico)."
   ]
  },
  {
   "cell_type": "code",
   "execution_count": null,
   "id": "26453bf4",
   "metadata": {},
   "outputs": [],
   "source": [
    "class GasIdeal:\n",
    "    R = 0.082  # L·atm / mol·K\n",
    "\n",
    "    def __init__(self, n, T, V):\n",
    "        self.n = n\n",
    "        self.T = T\n",
    "        self.V = V\n",
    "\n",
    "    def calcular_pressao(self):\n",
    "        \"\"\"PV = nRT\"\"\"\n",
    "        return (self.n * GasIdeal.R * self.T) / self.V\n",
    "\n",
    "    def energia_interna(self):\n",
    "        \"\"\"Energia interna de um gás ideal monoatômico\"\"\"\n",
    "        return 1.5 * self.n * GasIdeal.R * self.T\n",
    "\n",
    "\n",
    "# Exemplo\n",
    "gas = GasIdeal(n=2, T=300, V=20)\n",
    "print(\"Pressão (atm):\", gas.calcular_pressao())\n",
    "print(\"Energia interna (L·atm):\", gas.energia_interna())\n"
   ]
  },
  {
   "cell_type": "markdown",
   "id": "71c09307",
   "metadata": {},
   "source": [
    "#### 2.2.2 Método de Classe\n",
    "🔹 Um **método de classe** é usado quando queremos manipular a própria **classe** em vez de um objeto específico.  \n",
    "Ele recebe `cls` como primeiro parâmetro.  \n",
    "\n",
    "Podemos usar `@classmethod` para:  \n",
    "- Criar objetos a partir de outros formatos (ex.: pressão em vez de volume).  \n",
    "- Trabalhar com variáveis de classe.  \n",
    "\n",
    "Exemplo: construir o objeto **a partir de P, T e n**, resolvendo a equação de estado para V:\n",
    "\n",
    "$[\n",
    "V = \\frac{nRT}{P}\n",
    "]$\n"
   ]
  },
  {
   "cell_type": "code",
   "execution_count": null,
   "id": "941bd27b",
   "metadata": {},
   "outputs": [],
   "source": [
    "class GasIdeal:\n",
    "    R = 0.082  # L·atm / mol·K\n",
    "\n",
    "    def __init__(self, n, T, V):\n",
    "        self.n = n\n",
    "        self.T = T\n",
    "        self.V = V\n",
    "\n",
    "    def calcular_pressao(self):\n",
    "        return (self.n * GasIdeal.R * self.T) / self.V\n",
    "\n",
    "    @classmethod\n",
    "    def from_pressao(cls, n, T, P):\n",
    "        \"\"\"Cria um objeto GasIdeal a partir de P, n e T\"\"\"\n",
    "        V = (n * cls.R * T) / P\n",
    "        return cls(n, T, V)\n",
    "\n",
    "\n",
    "# Criando um objeto usando o método de classe\n",
    "gas2 = GasIdeal.from_pressao(n=1, T=300, P=2)\n",
    "print(\"Volume calculado (L):\", gas2.V)\n",
    "print(\"Pressão (atm):\", gas2.calcular_pressao())\n"
   ]
  },
  {
   "cell_type": "markdown",
   "id": "7f9f7e02",
   "metadata": {},
   "source": [
    "#### 2.2.3 Método Estático\n",
    "Um **método estático** não depende nem da instância (`self`) nem da classe (`cls`).  \n",
    "É útil para funções auxiliares relacionadas à classe, mas que não precisam acessar atributos.  \n",
    "\n",
    "Exemplo: conversão de temperatura de Celsius → Kelvin:\n",
    "$[\n",
    "T(K) = T(°C) + 273.15\n",
    "]$\n"
   ]
  },
  {
   "cell_type": "code",
   "execution_count": null,
   "id": "3341c244",
   "metadata": {},
   "outputs": [],
   "source": [
    "class GasIdeal:\n",
    "    R = 0.082  # L·atm / mol·K\n",
    "\n",
    "    def __init__(self, n, T, V):\n",
    "        self.n = n\n",
    "        self.T = T\n",
    "        self.V = V\n",
    "\n",
    "    def calcular_pressao(self):\n",
    "        return (self.n * GasIdeal.R * self.T) / self.V\n",
    "\n",
    "    @staticmethod\n",
    "    def celsius_para_kelvin(Tc):\n",
    "        return Tc + 273.15\n",
    "\n",
    "\n",
    "# Exemplo\n",
    "print(\"25 °C em Kelvin:\", GasIdeal.celsius_para_kelvin(25))\n"
   ]
  },
  {
   "cell_type": "markdown",
   "id": "83aa9192",
   "metadata": {},
   "source": [
    "#### 2.2.4 Métodos Overloading - Overriding\n",
    "##### 🔹 Sobrecarga de métodos (Overloading)\n",
    "Python não suporta sobrecarga nativa como em Java/C++, mas podemos simular usando **valores padrão**.  \n",
    "\n",
    "Exemplo: cálculo da pressão, podendo passar **volume** (opcional).  \n"
   ]
  },
  {
   "cell_type": "code",
   "execution_count": null,
   "id": "9c6ed05c",
   "metadata": {},
   "outputs": [],
   "source": [
    "class GasIdeal:\n",
    "    R = 0.082  # L·atm / mol·K\n",
    "\n",
    "    def __init__(self, n, T, V):\n",
    "        self.n = n\n",
    "        self.T = T\n",
    "        self.V = V\n",
    "\n",
    "    def calcular_pressao(self, V=None):\n",
    "        \"\"\"Se V não for passado, usa o volume do objeto\"\"\"\n",
    "        if V is None:\n",
    "            V = self.V\n",
    "        return (self.n * GasIdeal.R * self.T) / V\n",
    "\n",
    "\n",
    "# Exemplo\n",
    "gas = GasIdeal(n=1, T=300, V=10)\n",
    "print(\"Pressão com V=10L:\", gas.calcular_pressao())\n",
    "print(\"Pressão com V=5L:\", gas.calcular_pressao(V=5))\n"
   ]
  },
  {
   "cell_type": "markdown",
   "id": "46c106a7",
   "metadata": {},
   "source": [
    "##### 🔹 Sobrescrita de métodos (Overriding)\n",
    "Quando uma **subclasse** redefine um método da classe-pai.  \n",
    "\n",
    "Exemplo: vamos criar uma classe **VanDerWaals** que herda de **GasIdeal** e sobrescreve o cálculo da pressão:\n",
    "\n",
    "$[\n",
    "\\left(P + \\frac{a}{V^2}\\right)(V - nb) = nRT\n",
    "]$\n",
    "\n",
    "onde:  \n",
    "- `a`, `b` = constantes de correção (interações moleculares e volume próprio).\n"
   ]
  },
  {
   "cell_type": "code",
   "execution_count": null,
   "id": "99fc77c6",
   "metadata": {},
   "outputs": [],
   "source": [
    "class VanDerWaals(GasIdeal):\n",
    "    def __init__(self, n, T, V, a, b):\n",
    "        super().__init__(n, T, V)\n",
    "        self.a = a\n",
    "        self.b = b\n",
    "\n",
    "    def calcular_pressao(self):\n",
    "        \"\"\"Equação de Van der Waals\"\"\"\n",
    "        return ((self.n * GasIdeal.R * self.T) / (self.V - self.n * self.b)) - (self.a / (self.V**2))\n",
    "\n",
    "\n",
    "# Exemplo\n",
    "vdw = VanDerWaals(n=1, T=300, V=10, a=3.6, b=0.042)\n",
    "print(\"Pressão (atm) com Van der Waals:\", vdw.calcular_pressao())\n"
   ]
  },
  {
   "cell_type": "markdown",
   "id": "1b4e4126",
   "metadata": {},
   "source": [
    "## 3. Herança e Polimorfismo\n",
    "Em Python, como já vimos anteriormente, a estrutura básica de um programa já é pré configurada e pronta quando iniciamos um novo projeto em nossa IDE, fica subentendido que ao começar um\n",
    "projeto do zero estamos trabalhando em cima do método principal do mesmo, ou método __main__. Em outras linguagens inclusive é\n",
    "necessário criar tal método e importar bobliotecas para ele\n",
    "manualmente. Por fim quando criamos uma classe que será\n",
    "herdada ou que herdará características, começamos a trabalhar\n",
    "com o método __init__ que poderá, por exemplo, rodar em cima de\n",
    "__main__ sem substituir suas características, mas sim adicionar\n",
    "novos atributos específicos.\n",
    "\n",
    "### 3.1. Introdução à herança\n",
    "🔹 **Herança** é o mecanismo que permite criar novas classes (subclasses) a partir de uma classe existente (superclasse).  \n",
    "A subclasse herda atributos e métodos, podendo reutilizar ou modificar o comportamento.  \n",
    "\n",
    "Exemplo: A classe `GasIdeal` pode ser a superclasse, enquanto `VanDerWaals` é uma subclasse que redefine o cálculo da pressão.\n",
    "\n",
    "Quando criamos uma **subclasse**, muitas vezes queremos aproveitar o código da **superclasse** sem reescrever tudo.  \n",
    "Para isso, usamos a função `super()`.  \n",
    "\n",
    "🔹 O `super()` chama o método da classe-pai (superclasse).  \n",
    "Isso é muito útil no `__init__`, quando queremos **herdar atributos da classe-pai** e adicionar novos atributos na subclasse.  \n",
    "\n",
    "No nosso exemplo:  \n",
    "- `GasIdeal` define `n`, `T` e `V`.  \n",
    "- `VanDerWaals` precisa **reutilizar essa inicialização** e ainda acrescentar `a` e `b`.  \n",
    "\n"
   ]
  },
  {
   "cell_type": "code",
   "execution_count": null,
   "id": "762e2f36",
   "metadata": {},
   "outputs": [],
   "source": [
    "class GasIdeal:\n",
    "    R = 0.082  # L·atm / mol·K\n",
    "\n",
    "    def __init__(self, n, T, V):\n",
    "        self.n = n\n",
    "        self.T = T\n",
    "        self.V = V\n",
    "\n",
    "    def calcular_pressao(self):\n",
    "        return (self.n * GasIdeal.R * self.T) / self.V\n",
    "\n",
    "\n",
    "class VanDerWaals(GasIdeal):\n",
    "    def __init__(self, n, T, V, a, b):\n",
    "        # Aqui usamos super() para chamar o __init__ da classe GasIdeal\n",
    "        super().__init__(n, T, V)\n",
    "        self.a = a\n",
    "        self.b = b\n",
    "\n",
    "    def calcular_pressao(self):\n",
    "        \"\"\"Equação de Van der Waals\"\"\"\n",
    "        return ((self.n * GasIdeal.R * self.T) / (self.V - self.n * self.b)) - (self.a / (self.V**2))\n",
    "\n",
    "\n",
    "# Testando\n",
    "gas = GasIdeal(1, 300, 10)\n",
    "vdw = VanDerWaals(1, 300, 10, a=3.6, b=0.042)\n",
    "\n",
    "print(\"Pressão gás ideal:\", gas.calcular_pressao())\n",
    "print(\"Pressão Van der Waals:\", vdw.calcular_pressao())\n",
    "\n"
   ]
  },
  {
   "cell_type": "markdown",
   "id": "1233ea8f",
   "metadata": {},
   "source": [
    "### 3.2. Herança simples e multipla\n",
    "🔹 **Herança simples**: uma subclasse herda de apenas uma superclasse.  \n",
    "🔹 **Herança múltipla**: uma subclasse herda de duas ou mais superclasses.  \n",
    "\n",
    "Em Python, a herança múltipla pode gerar conflitos caso várias classes tenham métodos com o mesmo nome.  \n"
   ]
  },
  {
   "cell_type": "code",
   "execution_count": null,
   "id": "73bcadb9",
   "metadata": {},
   "outputs": [],
   "source": [
    "# Exemplo de herança múltipla:\n",
    "class ConversaoTemperatura:\n",
    "    @staticmethod\n",
    "    def celsius_para_kelvin(Tc):\n",
    "        return Tc + 273.15\n",
    "\n",
    "\n",
    "class VanDerWaalsComConversao(VanDerWaals, ConversaoTemperatura):\n",
    "    pass\n",
    "\n",
    "\n",
    "# Uso\n",
    "gas2 = VanDerWaalsComConversao(1, 300, 10, a=3.6, b=0.042)\n",
    "print(\"Pressão Van der Waals:\", gas2.calcular_pressao())\n",
    "print(\"25 °C em Kelvin:\", gas2.celsius_para_kelvin(25))\n"
   ]
  },
  {
   "cell_type": "markdown",
   "id": "5e25a66c",
   "metadata": {},
   "source": [
    "### 3.3 Método de ordem de resolução (MRO)\n",
    "Quando há **herança múltipla**, o Python precisa decidir qual método chamar.  \n",
    "A ordem de busca segue o **MRO (Method Resolution Order)**.  \n",
    "\n",
    "Podemos verificar a ordem com `NomeClasse.mro()` ou `help(NomeClasse)`.\n",
    "\n",
    "Quando usamos **herança múltipla**, pode haver conflito se duas classes ancestrais tiverem métodos com o mesmo nome.  \n",
    "O **MRO (Method Resolution Order)** define a ordem em que o Python procura os métodos.  \n",
    "\n",
    "A regra segue **C3 linearization**:  \n",
    "1. Busca primeiro na classe atual.  \n",
    "2. Depois, segue a ordem das superclasses da esquerda para a direita.  \n",
    "3. Se não encontrar, sobe na hierarquia até `object`.  \n",
    "\n"
   ]
  },
  {
   "cell_type": "code",
   "execution_count": null,
   "id": "862a0819",
   "metadata": {},
   "outputs": [],
   "source": [
    "class Base:\n",
    "    def info(self):\n",
    "        print(\"Método da classe Base\")\n",
    "\n",
    "\n",
    "class ConversaoTemperatura(Base):\n",
    "    def info(self):\n",
    "        print(\"Método da classe ConversaoTemperatura\")\n",
    "\n",
    "\n",
    "class ConversaoPressao(Base):\n",
    "    def info(self):\n",
    "        print(\"Método da classe ConversaoPressao\")\n",
    "\n",
    "\n",
    "class GasComConversoes(ConversaoTemperatura, ConversaoPressao):\n",
    "    pass\n",
    "\n",
    "\n",
    "obj = GasComConversoes()\n",
    "obj.info()  # Qual método será chamado?\n",
    "\n",
    "# Mostrando a ordem de resolução\n",
    "print(GasComConversoes.mro())\n"
   ]
  },
  {
   "cell_type": "markdown",
   "id": "93a56cc9",
   "metadata": {},
   "source": [
    "*Método da classe ConversaoTemperatura*\n",
    "\n",
    "*[<class '__main__.GasComConversoes'>,* \n",
    "\n",
    " *<class '__main__.ConversaoTemperatura'>,* \n",
    "\n",
    " *<class '__main__.ConversaoPressao'>,* \n",
    "\n",
    " *<class '__main__.Base'>,* \n",
    "\n",
    " *<class 'object'>]*\n",
    "\n",
    "Como GasComConversoes herda de (ConversaoTemperatura, ConversaoPressao), o Python procura primeiro em ConversaoTemperatura, depois em ConversaoPressao, depois em Base.\n",
    "\n",
    "Resumo: o MRO garante consistência na ordem de busca e evita ambiguidades."
   ]
  },
  {
   "cell_type": "markdown",
   "id": "14f88096",
   "metadata": {},
   "source": [
    "### 3.4. Polimorfismo e Metodo Overriding\n",
    "🔹 **Polimorfismo**: objetos de diferentes classes podem ser usados de forma intercambiável se tiverem métodos com o mesmo nome.  \n",
    "\n",
    "Exemplo: `calcular_pressao()` existe tanto em `GasIdeal` quanto em `VanDerWaals`.  \n",
    "Podemos chamar o método sem nos importar com a classe.  \n",
    "\n",
    "🔹 **Overriding (sobrescrita)**: já vimos que `VanDerWaals` sobrescreveu `calcular_pressao()`.  \n"
   ]
  },
  {
   "cell_type": "code",
   "execution_count": null,
   "id": "b99a0c32",
   "metadata": {},
   "outputs": [],
   "source": [
    "def mostrar_pressao(gas):\n",
    "    print(f\"Pressão calculada: {gas.calcular_pressao():.2f} atm\")\n",
    "\n",
    "\n",
    "g1 = GasIdeal(1, 300, 10)\n",
    "g2 = VanDerWaals(1, 300, 10, a=3.6, b=0.042)\n",
    "\n",
    "for g in [g1, g2]:\n",
    "    mostrar_pressao(g)\n"
   ]
  },
  {
   "cell_type": "markdown",
   "id": "2b3337c0",
   "metadata": {},
   "source": [
    "De forma geral Polimorfismo basicamente é a capacidade de você\n",
    "reconhecer e reaproveitar as funcionalidades de um objeto para\n",
    "uma situação adversa, se um objeto que você já possui já tem as\n",
    "características que você necessita pra quê você iria criar um novo\n",
    "objeto com tais características do zero.\n",
    "Na verdade já fizemos polimorfismo no capítulo anterior\n",
    "enquanto usávamos a função super( ) que é dedicada a possibilitar\n",
    "de forma simples que possamos subescrever ou extender métodos\n",
    "de uma classe para outra conforme a necessidade."
   ]
  },
  {
   "cell_type": "code",
   "execution_count": null,
   "id": "f7981d03",
   "metadata": {},
   "outputs": [],
   "source": [
    "class GasIdeal:\n",
    "    R = 0.082  # L·atm / mol·K\n",
    "\n",
    "    def __init__(self, n, T, V):\n",
    "        self.n = n\n",
    "        self.T = T\n",
    "        self.V = V\n",
    "\n",
    "    def calcular_pressao(self):\n",
    "        return (self.n * GasIdeal.R * self.T) / self.V\n",
    "\n",
    "\n",
    "class VanDerWaals(GasIdeal):\n",
    "    def __init__(self, n, T, V, a, b):\n",
    "        # Aqui usamos super() para chamar o __init__ da classe GasIdeal\n",
    "        super().__init__(n, T, V)\n",
    "        self.a = a\n",
    "        self.b = b\n",
    "\n",
    "# Repare que a classe filha VanDerWaals possui seu método construtor e logo\n",
    "# em seguida usa da função super( ) para buscar de GasIdeal os\n",
    "# parâmetros que ela não tem."
   ]
  },
  {
   "cell_type": "markdown",
   "id": "d14a15cc",
   "metadata": {},
   "source": [
    "## 4. Encapsulamento e Abstração\n",
    "### 4.1 Entenda Encapsulamento\n",
    "\n",
    "🔹 **Encapsulamento** é o princípio de **esconder detalhes internos** de uma classe, expondo apenas o que é necessário.  \n",
    "Isso ajuda a proteger os dados e manter a integridade do objeto.\n",
    "\n",
    "Em Python não existe \"encapsulamento rígido\" como em Java ou C++.  \n",
    "Mas usamos **convenções de nomenclatura**:  \n",
    "- **Atributos públicos**: podem ser acessados livremente (`self.T`)  \n",
    "- **Atributos protegidos**: prefixo `_` → \"não use fora da classe\" (`self._pressao_interna`)  \n",
    "- **Atributos privados**: prefixo `__` → o Python faz *name mangling* (`self.__segredo`)  \n"
   ]
  },
  {
   "cell_type": "code",
   "execution_count": null,
   "id": "74e09fde",
   "metadata": {},
   "outputs": [],
   "source": [
    "class GasIdeal:\n",
    "    R = 0.082  # L·atm / mol·K (pública, visível por todos)\n",
    "\n",
    "    def __init__(self, n, T, V):\n",
    "        self.n = n            # público\n",
    "        self._T = T           # protegido (convencionalmente \"interno\")\n",
    "        self.__V = V          # privado (oculto)\n",
    "\n",
    "    def calcular_pressao(self):\n",
    "        return (self.n * GasIdeal.R * self._T) / self.__V\n",
    "\n",
    "\n",
    "gas = GasIdeal(1, 300, 10)\n",
    "print(\"Número de mols (público):\", gas.n)\n",
    "print(\"Temperatura (protegido, mas acessível):\", gas._T)\n",
    "\n",
    "# Acesso direto ao privado falha:\n",
    "print(gas.__V)  # AttributeError\n",
    "\n"
   ]
  },
  {
   "cell_type": "code",
   "execution_count": null,
   "id": "1ad9f68e",
   "metadata": {},
   "outputs": [],
   "source": [
    "# Mas podemos acessar indiretamente via name mangling:\n",
    "print(\"Volume (privado, via name mangling):\", gas._GasIdeal__V)\n"
   ]
  },
  {
   "cell_type": "markdown",
   "id": "fe6945ce",
   "metadata": {},
   "source": [
    "### 4.2. Atributos Públicos, Protegidos e Privados\n",
    "Resumindo:\n",
    "- **Público**: livre acesso.  \n",
    "- **Protegido (_nome)**: uso interno, mas não bloqueado.  \n",
    "- **Privado (__nome)**: escondido via name mangling.  \n",
    "\n",
    "Boas práticas:  \n",
    "1. Use **público** para atributos normais.  \n",
    "2. Use **protegido** para atributos que não devem ser alterados fora da classe.  \n",
    "3. Use **privado** quando for crítico evitar alterações externas.  \n"
   ]
  },
  {
   "cell_type": "markdown",
   "id": "85fbc62d",
   "metadata": {},
   "source": [
    "### 4.3. Implementing Abstraction with Abstract Base Classes (ABCs)\n",
    "🔹 **Abstração** significa focar apenas nos aspectos essenciais, escondendo detalhes de implementação.  \n",
    "\n",
    "Em Python, usamos o módulo `abc` para criar **classes abstratas**.  \n",
    "- Uma classe abstrata **não pode ser instanciada diretamente**.  \n",
    "- Deve conter **métodos abstratos** (definidos mas não implementados).  \n",
    "- As subclasses **devem implementar esses métodos**.  \n",
    "\n",
    "Exemplo:  \n",
    "- Criamos uma classe abstrata `ModeloGas` com o método `calcular_pressao()`.  \n",
    "- `GasIdeal` e `VanDerWaals` implementam esse método cada um com sua equação.\n"
   ]
  },
  {
   "cell_type": "code",
   "execution_count": null,
   "id": "ed22f216",
   "metadata": {},
   "outputs": [],
   "source": [
    "from abc import ABC, abstractmethod\n",
    "\n",
    "class ModeloGas(ABC):\n",
    "    @abstractmethod\n",
    "    def calcular_pressao(self):\n",
    "        pass\n",
    "\n",
    "\n",
    "class GasIdeal(ModeloGas):\n",
    "    R = 0.082\n",
    "\n",
    "    def __init__(self, n, T, V):\n",
    "        self.n = n\n",
    "        self.T = T\n",
    "        self.V = V\n",
    "\n",
    "    def calcular_pressao(self):\n",
    "        return (self.n * GasIdeal.R * self.T) / self.V\n",
    "\n",
    "\n",
    "class VanDerWaals(ModeloGas):\n",
    "    R = 0.082\n",
    "\n",
    "    def __init__(self, n, T, V, a, b):\n",
    "        self.n = n\n",
    "        self.T = T\n",
    "        self.V = V\n",
    "        self.a = a\n",
    "        self.b = b\n",
    "\n",
    "    def calcular_pressao(self):\n",
    "        return ((self.n * VanDerWaals.R * self.T) / (self.V - self.n * self.b)) - (self.a / (self.V**2))\n",
    "\n",
    "\n",
    "# gas = ModeloGas()  # Erro! Classe abstrata não pode ser instanciada\n",
    "ideal = GasIdeal(1, 300, 10)\n",
    "vdw = VanDerWaals(1, 300, 10, 3.6, 0.042)\n",
    "\n",
    "print(\"Pressão (Ideal):\", ideal.calcular_pressao())\n",
    "print(\"Pressão (Van der Waals):\", vdw.calcular_pressao())\n"
   ]
  },
  {
   "cell_type": "markdown",
   "id": "ba2273c6",
   "metadata": {},
   "source": [
    "Vamos aplicar **encapsulamento + abstração**:\n",
    "\n",
    "- Criamos uma classe abstrata `ModeloGas`.  \n",
    "- As subclasses `GasIdeal` e `VanDerWaals` implementam `calcular_pressao()`.  \n",
    "- Usamos atributos **públicos, protegidos e privados** para controlar acesso.  \n",
    "\n",
    "Exemplo prático: verificar pressões de diferentes gases em uma lista de modelos.\n"
   ]
  },
  {
   "cell_type": "code",
   "execution_count": null,
   "id": "7c455f9c",
   "metadata": {},
   "outputs": [],
   "source": [
    "gases = [\n",
    "    GasIdeal(1, 300, 10),\n",
    "    VanDerWaals(1, 300, 10, 3.6, 0.042)\n",
    "]\n",
    "\n",
    "for g in gases:\n",
    "    print(f\"{g.__class__.__name__}: pressão = {g.calcular_pressao():.2f} atm\")\n"
   ]
  },
  {
   "cell_type": "markdown",
   "id": "ba82622a",
   "metadata": {},
   "source": [
    "## 5. Tópicos \"avançados\"\n",
    "### 5.1. Composição\n",
    "🔹 **Herança**: descreve uma relação \"É UM\" (ex.: `VanDerWaals` **é um** tipo de `ModeloGas`).  \n",
    "🔹 **Composição**: descreve uma relação \"TEM UM\" (ex.: um `SistemaGas` **tem um** `ModeloGas`).  \n",
    "\n",
    "Composição é útil quando queremos construir classes mais complexas a partir de outras, sem precisar herdar.\n"
   ]
  },
  {
   "cell_type": "code",
   "execution_count": null,
   "id": "f47fa7c9",
   "metadata": {},
   "outputs": [],
   "source": [
    "class SistemaGas:\n",
    "    def __init__(self, modelo_gas):\n",
    "        self.modelo = modelo_gas  # composição\n",
    "\n",
    "    def mostrar_pressao(self):\n",
    "        return self.modelo.calcular_pressao()\n",
    "\n",
    "\n",
    "# Uso\n",
    "ideal = GasIdeal(1, 300, 10)\n",
    "vdw = VanDerWaals(1, 300, 10, 3.6, 0.042)\n",
    "\n",
    "s1 = SistemaGas(ideal)\n",
    "s2 = SistemaGas(vdw)\n",
    "\n",
    "print(\"Sistema com gás ideal:\", s1.mostrar_pressao())\n",
    "print(\"Sistema com Van der Waals:\", s2.mostrar_pressao())\n"
   ]
  },
  {
   "cell_type": "markdown",
   "id": "5bdd5008",
   "metadata": {},
   "source": [
    "### 5.2. Composição vs Herança\n",
    "**Quando usar herança?**\n",
    "- Relação \"É UM\"  \n",
    "- Reutilização e especialização de comportamento  \n",
    "\n",
    "**Quando usar composição?**\n",
    "- Relação \"TEM UM\"  \n",
    "- Combinação de comportamentos de diferentes classes  \n",
    "\n",
    "Em termodinâmica:  \n",
    "- `VanDerWaals` **é um** tipo de `ModeloGas` → herança.  \n",
    "- `SistemaGas` **tem um** modelo de gás → composição.  \n"
   ]
  },
  {
   "cell_type": "markdown",
   "id": "ded37d1b",
   "metadata": {},
   "source": [
    "### 5.3 Entenda métodos mágicos e operator overloading\n",
    "🔹 **Magic methods** são métodos especiais do Python que começam e terminam com `__`.  \n",
    "Eles permitem personalizar o comportamento de operadores.  \n",
    "\n",
    "Exemplo: implementar `__add__` para somar dois gases (mesclar volumes e mols).  \n"
   ]
  },
  {
   "cell_type": "code",
   "execution_count": null,
   "id": "1225d39d",
   "metadata": {},
   "outputs": [],
   "source": [
    "class GasIdeal:\n",
    "    R = 0.082\n",
    "\n",
    "    def __init__(self, n, T, V):\n",
    "        self.n = n\n",
    "        self.T = T\n",
    "        self.V = V\n",
    "\n",
    "    def calcular_pressao(self):\n",
    "        return (self.n * GasIdeal.R * self.T) / self.V\n",
    "\n",
    "    def __add__(self, outro):\n",
    "        \"\"\"Mistura dois gases (mesma T).\"\"\"\n",
    "        if self.T != outro.T:\n",
    "            raise ValueError(\"Temperaturas devem ser iguais para mistura simplificada.\")\n",
    "        return GasIdeal(self.n + outro.n, self.T, self.V + outro.V)\n",
    "\n",
    "    def __str__(self):\n",
    "        return f\"GasIdeal(n={self.n}, T={self.T}, V={self.V})\"\n",
    "\n",
    "\n",
    "g1 = GasIdeal(1, 300, 10)\n",
    "g2 = GasIdeal(2, 300, 20)\n",
    "\n",
    "g3 = g1 + g2\n",
    "print(g3)\n",
    "print(\"Pressão da mistura:\", g3.calcular_pressao())\n"
   ]
  },
  {
   "cell_type": "markdown",
   "id": "444dffd2",
   "metadata": {},
   "source": [
    "### 5.4. Criando iteradores e geradores personalizados\n",
    "🔹 Um **iterator** permite percorrer elementos de um objeto (ex.: simulação de estados do gás ao longo do tempo).  \n",
    "🔹 Um **generator** usa `yield` para produzir valores sob demanda, economizando memória.  \n",
    "\n",
    "Exemplo: criar um gerador que simula a pressão de um gás quando o volume diminui gradualmente.\n"
   ]
  },
  {
   "cell_type": "code",
   "execution_count": null,
   "id": "c264b0dd",
   "metadata": {},
   "outputs": [],
   "source": [
    "def simular_compressao(gas, passos=5):\n",
    "    V_inicial = gas.V\n",
    "    for i in range(1, passos+1):\n",
    "        novo_V = V_inicial / i\n",
    "        yield (novo_V, (gas.n * gas.R * gas.T) / novo_V)\n",
    "\n",
    "\n",
    "# Exemplo\n",
    "g = GasIdeal(1, 300, 10)\n",
    "for V, P in simular_compressao(g):\n",
    "    print(f\"Volume={V:.2f} L → Pressão={P:.2f} atm\")\n"
   ]
  },
  {
   "cell_type": "markdown",
   "id": "7050df04",
   "metadata": {},
   "source": [
    "### 5.5 Interfaces e Design Patterns aplicados à Termodinâmica\n",
    "Em Python, **interfaces** podem ser representadas por classes abstratas (`ABC`).  \n",
    "Um **Design Pattern** comum é o **Factory**, que decide dinamicamente qual classe instanciar.  \n",
    "\n",
    "Exemplo: criar uma **Fábrica de Modelos de Gases**.  \n"
   ]
  },
  {
   "cell_type": "code",
   "execution_count": null,
   "id": "23eea255",
   "metadata": {},
   "outputs": [],
   "source": [
    "class GasFactory:\n",
    "    @staticmethod\n",
    "    def criar_modelo(tipo, **kwargs):\n",
    "        if tipo == \"ideal\":\n",
    "            return GasIdeal(kwargs[\"n\"], kwargs[\"T\"], kwargs[\"V\"])\n",
    "        elif tipo == \"vdw\":\n",
    "            return VanDerWaals(kwargs[\"n\"], kwargs[\"T\"], kwargs[\"V\"], kwargs[\"a\"], kwargs[\"b\"])\n",
    "        else:\n",
    "            raise ValueError(\"Modelo de gás desconhecido\")\n",
    "        \n",
    "\n",
    "# Uso\n",
    "gas1 = GasFactory.criar_modelo(\"ideal\", n=1, T=300, V=10)\n",
    "gas2 = GasFactory.criar_modelo(\"vdw\", n=1, T=300, V=10, a=3.6, b=0.042)\n",
    "\n",
    "print(\"Pressão gás ideal:\", gas1.calcular_pressao())\n",
    "print(\"Pressão Van der Waals:\", gas2.calcular_pressao())\n"
   ]
  },
  {
   "cell_type": "markdown",
   "id": "95366ee3",
   "metadata": {},
   "source": [
    "## Mais conceitos avançados\n",
    "### 6.1. Metaclasses\n",
    "🔹 Em Python, **classes são objetos**.  \n",
    "🔹 **Metaclasses** são \"classes de classes\", ou seja, elas controlam como as classes são criadas.  \n",
    "🔹 Útil quando queremos impor **regras de construção** nas nossas classes de modelos de gases.\n",
    "\n",
    "Exemplo: garantir que toda classe que represente um Modelo de Gás tenha obrigatoriamente o método calcular_pressao."
   ]
  },
  {
   "cell_type": "code",
   "execution_count": null,
   "id": "cbb20c18",
   "metadata": {},
   "outputs": [],
   "source": [
    "class MetaModeloGas(type):\n",
    "    def __new__(cls, name, bases, namespace):\n",
    "        if name != \"BaseGas\" and \"calcular_pressao\" not in namespace:\n",
    "            raise TypeError(f\"A classe {name} deve implementar o método calcular_pressao.\")\n",
    "        return super().__new__(cls, name, bases, namespace)\n",
    "\n",
    "\n",
    "class BaseGas(metaclass=MetaModeloGas):\n",
    "    pass\n",
    "\n",
    "\n",
    "class GasIdeal(BaseGas):\n",
    "    R = 0.082\n",
    "    def __init__(self, n, T, V):\n",
    "        self.n, self.T, self.V = n, T, V\n",
    "    def calcular_pressao(self):\n",
    "        return (self.n * self.R * self.T) / self.V\n",
    "\n",
    "\n",
    "# Falha: não implementa calcular_pressao\n",
    "# class GasInvalido(BaseGas):\n",
    "#     pass\n"
   ]
  },
  {
   "cell_type": "markdown",
   "id": "1229fa8e",
   "metadata": {},
   "source": [
    "### 6.2. Decoradores avançados\n",
    "🔹 Decorators são funções que \"embrulham\" outras funções ou métodos.  \n",
    "🔹 Usados para adicionar comportamento **sem modificar o código original**.  \n",
    "🔹 Aplicações em termodinâmica: log de cálculos, cache de resultados, verificação de unidades.\n",
    "\n",
    "Exemplo: um decorator para logar automaticamente os cálculos de pressão.\n"
   ]
  },
  {
   "cell_type": "code",
   "execution_count": null,
   "id": "9f5f701e",
   "metadata": {},
   "outputs": [],
   "source": [
    "def log_calculo(func):\n",
    "    def wrapper(*args, **kwargs):\n",
    "        resultado = func(*args, **kwargs)\n",
    "        print(f\"[LOG] {func.__name__} chamado → resultado: {resultado}\")\n",
    "        return resultado\n",
    "    return wrapper\n",
    "\n",
    "\n",
    "class VanDerWaals(BaseGas):\n",
    "    R = 0.082\n",
    "    def __init__(self, n, T, V, a, b):\n",
    "        self.n, self.T, self.V, self.a, self.b = n, T, V, a, b\n",
    "\n",
    "    @log_calculo\n",
    "    def calcular_pressao(self):\n",
    "        return (self.n * self.R * self.T) / (self.V - self.n * self.b) - (self.a * (self.n / self.V) ** 2)\n",
    "\n",
    "\n",
    "gas = VanDerWaals(1, 300, 10, 3.6, 0.042)\n",
    "gas.calcular_pressao()\n"
   ]
  },
  {
   "cell_type": "markdown",
   "id": "93a88485",
   "metadata": {},
   "source": [
    "Exemplo avançado: decorator parametrizado para verificar limites de validade de modelos."
   ]
  },
  {
   "cell_type": "code",
   "execution_count": null,
   "id": "14ae36b7",
   "metadata": {},
   "outputs": [],
   "source": [
    "def validar_intervalo(Tmin, Tmax):\n",
    "    def decorator(func):\n",
    "        def wrapper(self, *args, **kwargs):\n",
    "            if not (Tmin <= self.T <= Tmax):\n",
    "                raise ValueError(f\"Temperatura fora do intervalo válido [{Tmin}, {Tmax}]\")\n",
    "            return func(self, *args, **kwargs)\n",
    "        return wrapper\n",
    "    return decorator\n",
    "\n",
    "\n",
    "class GasIdeal(BaseGas):\n",
    "    R = 0.082\n",
    "    def __init__(self, n, T, V):\n",
    "        self.n, self.T, self.V = n, T, V\n",
    "\n",
    "    @validar_intervalo(200, 500)\n",
    "    def calcular_pressao(self):\n",
    "        return (self.n * self.R * self.T) / self.V\n"
   ]
  },
  {
   "cell_type": "markdown",
   "id": "9f2d7186",
   "metadata": {},
   "source": [
    "### 6.3. Context Managers\n",
    "🔹 Context Managers controlam recursos com `with`.  \n",
    "🔹 Muito usados para abrir/fechar arquivos, conexões etc.  \n",
    "🔹 Em termodinâmica: podem ser usados para gerenciar simulações → iniciando e fechando registros automaticamente.\n",
    "\n",
    "um Context Manager que gera logs de simulação."
   ]
  },
  {
   "cell_type": "code",
   "execution_count": null,
   "id": "2d8214be",
   "metadata": {},
   "outputs": [],
   "source": [
    "class Simulacao:\n",
    "    def __init__(self, nome):\n",
    "        self.nome = nome\n",
    "        self.file = None\n",
    "\n",
    "    def __enter__(self):\n",
    "        self.file = open(f\"{self.nome}_sim.log\", \"w\")\n",
    "        self.file.write(f\"Iniciando simulação: {self.nome}\\n\")\n",
    "        return self.file\n",
    "\n",
    "    def __exit__(self, exc_type, exc_val, exc_tb):\n",
    "        self.file.write(\"Finalizando simulação\\n\")\n",
    "        self.file.close()\n",
    "\n",
    "\n",
    "# Uso\n",
    "with Simulacao(\"teste_vdw\") as log:\n",
    "    g = VanDerWaals(1, 300, 10, 3.6, 0.042)\n",
    "    log.write(f\"Pressão calculada: {g.calcular_pressao()}\\n\")\n"
   ]
  },
  {
   "cell_type": "markdown",
   "id": "4776b028",
   "metadata": {},
   "source": [
    "Exemplo com contextlib para simplificar:"
   ]
  },
  {
   "cell_type": "code",
   "execution_count": null,
   "id": "dae12212",
   "metadata": {},
   "outputs": [],
   "source": [
    "from contextlib import contextmanager\n",
    "\n",
    "@contextmanager\n",
    "def registrar_calculo(nome):\n",
    "    log = open(f\"{nome}.log\", \"w\")\n",
    "    log.write(\"Início do cálculo\\n\")\n",
    "    try:\n",
    "        yield log\n",
    "    finally:\n",
    "        log.write(\"Fim do cálculo\\n\")\n",
    "        log.close()\n",
    "\n",
    "\n",
    "with registrar_calculo(\"gas_ideal\") as log:\n",
    "    g = GasIdeal(1, 300, 10)\n",
    "    log.write(f\"P = {g.calcular_pressao()}\\n\")"
   ]
  },
  {
   "cell_type": "markdown",
   "id": "a479fa28",
   "metadata": {},
   "source": [
    "#### 🔹 Decoradores de Classe\n",
    "Exemplo 1 – Adicionar comportamento automaticamente\n",
    "\n",
    "Decorador que adiciona um método info_modelo a qualquer classe de equação de estado."
   ]
  },
  {
   "cell_type": "code",
   "execution_count": null,
   "id": "6d1c7bf6",
   "metadata": {},
   "outputs": [
    {
     "name": "stdout",
     "output_type": "stream",
     "text": [
      "2.46\n",
      "Modelo: GasIdeal, Atributos: ['n', 'T', 'V']\n"
     ]
    }
   ],
   "source": [
    "def adicionar_info(cls):\n",
    "    def info_modelo(self):\n",
    "        return f\"Modelo: {cls.__name__}, Atributos: {list(self.__dict__.keys())}\"\n",
    "    cls.info_modelo = info_modelo\n",
    "    return cls\n",
    "\n",
    "\n",
    "@adicionar_info\n",
    "class GasIdeal:\n",
    "    R = 0.082\n",
    "    def __init__(self, n, T, V):\n",
    "        self.n, self.T, self.V = n, T, V\n",
    "\n",
    "    def calcular_pressao(self):\n",
    "        return (self.n * self.R * self.T) / self.V\n",
    "\n",
    "\n",
    "g = GasIdeal(1, 300, 10)\n",
    "print(g.calcular_pressao())\n",
    "print(g.info_modelo())  # método injetado pelo decorator\n"
   ]
  },
  {
   "cell_type": "markdown",
   "id": "5be8ba2a",
   "metadata": {},
   "source": [
    "Exemplo 2 – Registro automático de modelos\n",
    "\n",
    "Decorador que mantém um catálogo global de todos os modelos termodinâmicos."
   ]
  },
  {
   "cell_type": "code",
   "execution_count": null,
   "id": "4e96c57a",
   "metadata": {},
   "outputs": [],
   "source": [
    "modelos_registrados = {}\n",
    "\n",
    "def registrar_modelo(cls):\n",
    "    modelos_registrados[cls.__name__] = cls\n",
    "    return cls\n",
    "\n",
    "\n",
    "@registrar_modelo\n",
    "class VanDerWaals:\n",
    "    R = 0.082\n",
    "    def __init__(self, n, T, V, a, b):\n",
    "        self.n, self.T, self.V, self.a, self.b = n, T, V, a, b\n",
    "\n",
    "    def calcular_pressao(self):\n",
    "        return (self.n * self.R * self.T) / (self.V - self.n * self.b) - (self.a / (self.V**2))\n",
    "\n",
    "\n",
    "print(\"Modelos registrados:\", modelos_registrados)\n"
   ]
  },
  {
   "cell_type": "markdown",
   "id": "d5912e46",
   "metadata": {},
   "source": [
    "Exemplo 3 – Validação de atributos obrigatórios\n",
    "\n",
    "Decorador que garante que a classe tenha implementado o método calcular_pressao.\n",
    "(uma alternativa mais simples que metaclasses)"
   ]
  },
  {
   "cell_type": "code",
   "execution_count": null,
   "id": "6095a113",
   "metadata": {},
   "outputs": [],
   "source": [
    "def validar_modelo(cls):\n",
    "    if \"calcular_pressao\" not in cls.__dict__:\n",
    "        raise TypeError(f\"A classe {cls.__name__} deve implementar calcular_pressao()\")\n",
    "    return cls\n",
    "\n",
    "\n",
    "@validar_modelo\n",
    "class PengRobinson:\n",
    "    R = 0.082\n",
    "    def __init__(self, n, T, V, a, b, kappa):\n",
    "        self.n, self.T, self.V, self.a, self.b, self.kappa = n, T, V, a, b, kappa\n",
    "\n",
    "    def calcular_pressao(self):\n",
    "        return (self.n * self.R * self.T) / (self.V - self.n * self.b) - (self.a / (self.V**2))\n",
    "\n",
    "\n",
    "# Se criássemos uma classe sem calcular_pressao, daria erro\n",
    "# @validar_modelo\n",
    "# class ModeloInvalido:\n",
    "#     pass\n"
   ]
  },
  {
   "cell_type": "markdown",
   "id": "13f0e8bd",
   "metadata": {},
   "source": [
    "## 7. Padões de Projetos\n",
    "### 7.1 Singleton – Garantir uma única instância\n",
    "🔹 O padrão **Singleton** garante que exista **apenas uma instância** de uma classe.  \n",
    "🔹 Em termodinâmica, pode ser útil para armazenar **constantes globais** (ex.: R universal). "
   ]
  },
  {
   "cell_type": "code",
   "execution_count": null,
   "id": "9b19a2c8",
   "metadata": {},
   "outputs": [],
   "source": [
    "class Constantes:\n",
    "    _instancia = None\n",
    "\n",
    "    def __new__(cls):\n",
    "        if cls._instancia is None:\n",
    "            cls._instancia = super().__new__(cls)\n",
    "            cls._instancia.R = 0.082  # L·atm/(mol·K)\n",
    "        return cls._instancia\n",
    "\n",
    "\n",
    "c1 = Constantes()\n",
    "c2 = Constantes()\n",
    "print(\"Mesma instância?\", c1 is c2)\n"
   ]
  },
  {
   "cell_type": "markdown",
   "id": "6bbef1cb",
   "metadata": {},
   "source": [
    "### 7.2 Strategy – Escolher o modelo de equação dinamicamente\n",
    "🔹 O padrão **Strategy** permite alternar dinamicamente entre diferentes algoritmos.  \n",
    "🔹 Aqui: alternar entre **equações de estado** (Ideal, Van der Waals, Peng-Robinson) sem mudar o código do cliente.\n"
   ]
  },
  {
   "cell_type": "code",
   "execution_count": null,
   "id": "6361745e",
   "metadata": {},
   "outputs": [],
   "source": [
    "from abc import ABC, abstractmethod\n",
    "\n",
    "class ModeloGas(ABC):\n",
    "    @abstractmethod\n",
    "    def calcular_pressao(self, n, T, V): pass\n",
    "\n",
    "\n",
    "class GasIdeal(ModeloGas):\n",
    "    R = 0.082\n",
    "    def calcular_pressao(self, n, T, V):\n",
    "        return (n * self.R * T) / V\n",
    "\n",
    "\n",
    "class VanDerWaals(ModeloGas):\n",
    "    R = 0.082\n",
    "    def __init__(self, a, b): self.a, self.b = a, b\n",
    "    def calcular_pressao(self, n, T, V):\n",
    "        return (n * self.R * T) / (V - n * self.b) - (self.a / (V**2))\n",
    "\n",
    "\n",
    "class Simulador:\n",
    "    def __init__(self, modelo: ModeloGas):\n",
    "        self.modelo = modelo\n",
    "    def rodar(self, n, T, V):\n",
    "        return self.modelo.calcular_pressao(n, T, V)\n",
    "\n",
    "\n",
    "sim1 = Simulador(GasIdeal())\n",
    "print(\"Ideal:\", sim1.rodar(1, 300, 10))\n",
    "\n",
    "sim2 = Simulador(VanDerWaals(a=3.6, b=0.042))\n",
    "print(\"Van der Waals:\", sim2.rodar(1, 300, 10))\n"
   ]
  },
  {
   "cell_type": "markdown",
   "id": "c9f912ba",
   "metadata": {},
   "source": [
    "### 7.3 Observer – Reagir a mudanças em simulações\n",
    "🔹 O padrão **Observer** permite que múltiplos objetos sejam **notificados** quando o estado de outro muda.  \n",
    "🔹 Aplicação: sensores virtuais que reagem quando a pressão muda durante uma simulação."
   ]
  },
  {
   "cell_type": "code",
   "execution_count": null,
   "id": "c6b73d07",
   "metadata": {},
   "outputs": [],
   "source": [
    "class Observer:\n",
    "    def update(self, valor): pass\n",
    "\n",
    "\n",
    "class Logger(Observer):\n",
    "    def update(self, valor):\n",
    "        print(f\"[LOG] Pressão atualizada para {valor:.2f} atm\")\n",
    "\n",
    "\n",
    "class AlertaSeguranca(Observer):\n",
    "    def __init__(self, limite): self.limite = limite\n",
    "    def update(self, valor):\n",
    "        if valor > self.limite:\n",
    "            print(f\"[ALERTA] Pressão excedeu {self.limite} atm!\")\n",
    "\n",
    "\n",
    "class SimulacaoPressao:\n",
    "    def __init__(self, modelo: ModeloGas, n, T, V):\n",
    "        self.modelo, self.n, self.T, self.V = modelo, n, T, V\n",
    "        self.observers = []\n",
    "    def adicionar_observer(self, obs: Observer):\n",
    "        self.observers.append(obs)\n",
    "    def calcular(self):\n",
    "        P = self.modelo.calcular_pressao(self.n, self.T, self.V)\n",
    "        for obs in self.observers:\n",
    "            obs.update(P)\n",
    "        return P\n",
    "\n",
    "\n",
    "sim = SimulacaoPressao(GasIdeal(), 1, 300, 10)\n",
    "sim.adicionar_observer(Logger())\n",
    "sim.adicionar_observer(AlertaSeguranca(limite=2.5))\n",
    "sim.calcular()\n"
   ]
  },
  {
   "cell_type": "markdown",
   "id": "dafd9d9c",
   "metadata": {},
   "source": [
    "### 7.4 Factory Method – Criar modelos sob demanda\n",
    "\n",
    "O Factory Method define uma interface para criar um objeto, mas delega a subclasses (ou a funções/objetos concretos) a responsabilidade de escolher a classe concreta a ser instanciada. O cliente pede um \"produto\" (aqui: um modelo de gás) sem depender da implementação concreta.\n",
    "\n",
    "Quando usar:\n",
    "\n",
    "- Quando a criação de objetos envolve lógica (parâmetros, validações, leitura de config).\n",
    "\n",
    "- Para desacoplar o código que usa os objetos do código que sabe como criá-los.\n",
    "\n",
    "- Quando você quer permitir adicionar novos tipos de modelos sem alterar o cliente.\n",
    "\n",
    "**Estrutura (mapeada para termodinâmica):**\n",
    "\n",
    "Product → ModeloGas (interface/ABC com calcular_pressao)\n",
    "\n",
    "ConcreteProduct → GasIdeal, VanDerWaals, PengRobinson, etc.\n",
    "\n",
    "Creator → FabricaModelos com método criar_modelo(tipo, **kwargs)\n",
    "\n",
    "**Vantagens:**\n",
    "\n",
    "- Desacoplamento entre criação e uso.\n",
    "\n",
    "- Centraliza regras de criação (um lugar para tratar parâmetros padrão, erros e logging).\n",
    "\n",
    "- Fácil extensão (adiciona-se um case novo na fábrica)."
   ]
  },
  {
   "cell_type": "code",
   "execution_count": null,
   "id": "868a0d63",
   "metadata": {},
   "outputs": [],
   "source": [
    "class FabricaModelos:\n",
    "    @staticmethod\n",
    "    def criar_modelo(tipo: str, **kwargs) -> ModeloGas:\n",
    "        if tipo == \"ideal\":\n",
    "            return GasIdeal()\n",
    "        elif tipo == \"vdw\":\n",
    "            return VanDerWaals(kwargs.get(\"a\", 3.6), kwargs.get(\"b\", 0.042))\n",
    "        else:\n",
    "            raise ValueError(\"Modelo desconhecido\")\n",
    "\n",
    "\n",
    "# Uso\n",
    "modelo1 = FabricaModelos.criar_modelo(\"ideal\")\n",
    "print(\"P Ideal:\", modelo1.calcular_pressao(1, 300, 10))\n",
    "\n",
    "modelo2 = FabricaModelos.criar_modelo(\"vdw\", a=3.6, b=0.042)\n",
    "print(\"P VDW:\", modelo2.calcular_pressao(1, 300, 10))\n"
   ]
  },
  {
   "cell_type": "markdown",
   "id": "8f01faef",
   "metadata": {},
   "source": [
    "### 7.5 Abstract Factory — Criar famílias de modelos\n",
    "O Abstract Factory fornece uma interface para criar famílias de objetos relacionados sem especificar suas classes concretas. É útil quando você precisa garantir que um conjunto de objetos \"compatíveis\" seja criado de forma consistente.\n",
    "\n",
    "Quando usar:\n",
    "\n",
    "- Quando existem famílias de produtos que devem trabalhar bem em conjunto (por exemplo: modelos com versões analytical e numeric, ou com diferentes sistemas de unidade).\n",
    "\n",
    "- Quando você quer trocar toda a família de implementações de forma transparente (p.ex. usar “implementação rápida” em testes e “implementação robusta” em produção).\n",
    "\n",
    "**Estrutura (mapeada para termodinâmica):**\n",
    "\n",
    "- AbstractFactory → interface com métodos para criar diversos tipos relacionados (ex.: criar_gas(), criar_solver(), criar_conversor_unidades()).\n",
    "\n",
    "- ConcreteFactory → FabricaIdeal, FabricaVDW, FabricaCoolProp que retornam objetos concretos compatíveis entre si.\n",
    "\n",
    "- Cliente usa apenas a fábrica abstrata; todas as instâncias criadas pela mesma fábrica pertencem à mesma família.\n",
    "\n",
    "**Vantagens:**\n",
    "\n",
    "- Troca fácil de famílias inteiras (sem mudar cliente).\n",
    "\n",
    "- Garante compatibilidade entre os objetos criados (por exemplo, um modelo + um solver que esperam mesma representação de dados)."
   ]
  },
  {
   "cell_type": "code",
   "execution_count": null,
   "id": "2a1a91b0",
   "metadata": {},
   "outputs": [],
   "source": [
    "from abc import ABC, abstractmethod\n",
    "\n",
    "class AbstractFactory(ABC):\n",
    "    @abstractmethod\n",
    "    def criar_gas(self): pass\n",
    "    @abstractmethod\n",
    "    def criar_solver(self): pass\n",
    "\n",
    "class FabricaIdeal(AbstractFactory):\n",
    "    def criar_gas(self):\n",
    "        return GasIdeal(1, 300, 10)\n",
    "    def criar_solver(self):\n",
    "        return SolverAnalitico()  # exemplo de solver compatível\n",
    "\n",
    "class FabricaVDW(AbstractFactory):\n",
    "    def criar_gas(self):\n",
    "        return VanDerWaals(1, 300, 10, a=3.6, b=0.042)\n",
    "    def criar_solver(self):\n",
    "        return SolverNumerico()   # solver que lida com EOS não-lineares\n",
    "\n",
    "# Cliente\n",
    "def rodar_simulacao_com_fabrica(fabrica: AbstractFactory):\n",
    "    gas = fabrica.criar_gas()\n",
    "    solver = fabrica.criar_solver()\n",
    "    return solver.resolver(gas)\n",
    "\n",
    "# Uso\n",
    "resultado = rodar_simulacao_com_fabrica(FabricaVDW())\n"
   ]
  },
  {
   "cell_type": "markdown",
   "id": "4f64c07c",
   "metadata": {},
   "source": [
    "### 7.6 Adapter – Unificar interfaces diferentes\n",
    "🔹 Imagine que você usa **CoolProp** (biblioteca real de termodinâmica).  \n",
    "🔹 A interface é diferente da nossa classe `ModeloGas`.  \n",
    "🔹 O Adapter serve para \"traduzir\" a interface externa para a interna."
   ]
  },
  {
   "cell_type": "code",
   "execution_count": null,
   "id": "7e94a3c8",
   "metadata": {},
   "outputs": [],
   "source": [
    "# Supondo uma biblioteca externa\n",
    "class CoolPropGas:\n",
    "    def __init__(self, fluid):\n",
    "        self.fluid = fluid\n",
    "    def P(self, T, rho):\n",
    "        # Pressão em função de T e densidade (exemplo fictício)\n",
    "        return 8.314 * T * rho\n",
    "\n",
    "\n",
    "class CoolPropAdapter(ModeloGas):\n",
    "    def __init__(self, fluid):\n",
    "        self.coolprop = CoolPropGas(fluid)\n",
    "    def calcular_pressao(self, n, T, V):\n",
    "        rho = n / V\n",
    "        return self.coolprop.P(T, rho)\n",
    "\n",
    "\n",
    "# Uso\n",
    "gas_cp = CoolPropAdapter(\"CO2\")\n",
    "print(\"P CoolProp adaptado:\", gas_cp.calcular_pressao(1, 300, 10))\n"
   ]
  },
  {
   "cell_type": "markdown",
   "id": "30771bf3",
   "metadata": {},
   "source": [
    "| Padrão               | Objetivo                                                   | Quando usar                                                           | Aplicação em Termodinâmica                                                   | Exemplo resumido                                                       |\n",
    "| -------------------- | ---------------------------------------------------------- | --------------------------------------------------------------------- | ---------------------------------------------------------------------------- | ---------------------------------------------------------------------- |\n",
    "| **Singleton**        | Garantir uma única instância de uma classe                 | Constantes globais, configuração única                                | Constante universal R, propriedades globais do sistema                       | `Constantes()` sempre retorna a mesma instância                        |\n",
    "| **Strategy**         | Alternar dinamicamente entre algoritmos/implementações     | Trocar equações de estado ou métodos de cálculo sem alterar o cliente | Alternar entre GasIdeal, VanDerWaals, PengRobinson                           | `Simulador(modelo=GasIdeal())` vs `Simulador(modelo=VanDerWaals())`    |\n",
    "| **Observer**         | Notificar objetos dependentes quando o estado muda         | Monitorar eventos de simulação (pressão, temperatura)                 | Sensores virtuais que alertam quando pressão excede limite                   | `SimulacaoPressao` notifica `Logger` e `AlertaSeguranca`               |\n",
    "| **Factory Method**   | Criar objetos sem expor a lógica de criação                | Quando a criação envolve lógica ou parâmetros variáveis               | Criar modelos de gases sob demanda (`tipo=\"ideal\"` ou `\"vdw\"`)               | `FabricaModelos.criar_modelo(\"vdw\", n=1, T=300, V=10, a=3.6, b=0.042)` |\n",
    "| **Abstract Factory** | Criar famílias de objetos relacionados compatíveis         | Quando precisamos garantir compatibilidade entre vários objetos       | Criar conjunto de `ModeloGas` + `Solver` + conversor de unidades compatíveis | `FabricaVDW().criar_gas()` + `FabricaVDW().criar_solver()`             |\n",
    "| **Adapter**          | Unificar interfaces diferentes para o mesmo tipo de objeto | Integrar bibliotecas externas ou diferentes APIs                      | Adaptar CoolProp ou Cantera para a interface `ModeloGas`                     | `CoolPropAdapter(\"CO2\").calcular_pressao(1, 300, 10)`                  |\n"
   ]
  },
  {
   "cell_type": "markdown",
   "id": "e08c798c",
   "metadata": {},
   "source": [
    "### OPP Julia vs Python (multiple dispatch vs object paradigm)\n",
    "https://medium.com/@abhimanyuaryan/object-oriented-programming-in-julia-4dbde2661fde\n",
    "https://dev.to/acmion/julia-object-oriented-programming-5dgh\n",
    "https://juliateachingctu.github.io/Scientific-Programming-in-Julia/stable/lecture_03/lecture/\n",
    "https://stackoverflow.com/questions/39133424/how-to-create-a-single-dispatch-object-oriented-class-in-julia-that-behaves-l\n"
   ]
  }
 ],
 "metadata": {
  "kernelspec": {
   "display_name": ".sensores_env (3.13.3)",
   "language": "python",
   "name": "python3"
  },
  "language_info": {
   "codemirror_mode": {
    "name": "ipython",
    "version": 3
   },
   "file_extension": ".py",
   "mimetype": "text/x-python",
   "name": "python",
   "nbconvert_exporter": "python",
   "pygments_lexer": "ipython3",
   "version": "3.13.3"
  }
 },
 "nbformat": 4,
 "nbformat_minor": 5
}
